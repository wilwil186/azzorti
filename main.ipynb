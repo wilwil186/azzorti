{
 "cells": [
  {
   "cell_type": "markdown",
   "metadata": {},
   "source": [
    "## Cargas las librerias necesarias"
   ]
  },
  {
   "cell_type": "code",
   "execution_count": 1,
   "metadata": {},
   "outputs": [],
   "source": [
    "import pandas as pd  # Librería para manipulación y análisis de datos\n",
    "import numpy as np  # Librería para operaciones numéricas y generación de datos aleatorios\n",
    "import os  # Librería para interactuar con el sistema de archivos"
   ]
  },
  {
   "cell_type": "code",
   "execution_count": 2,
   "metadata": {},
   "outputs": [
    {
     "name": "stdout",
     "output_type": "stream",
     "text": [
      "El DataFrame ha sido guardado en 'ventas_netas.csv'.\n"
     ]
    }
   ],
   "source": [
    "# Definir función para generar el DataFrame con las condiciones establecidas\n",
    "def generar_dataframe():\n",
    "    # Crear lista de productos con formato P0001, P0002, ..., P1000\n",
    "    productos = [f'P{i:04d}' for i in range(1, 1001)]\n",
    "    \n",
    "    # Generar valores aleatorios de ventas entre 1000 y 10000\n",
    "    ventas = np.random.randint(1000, 10001, size=1000)\n",
    "    \n",
    "    # Asignar categorías según la paridad del número del producto\n",
    "    categorias = ['GIMPAR' if int(p[1:]) % 2 != 0 else 'GPAR' for p in productos]\n",
    "    \n",
    "    # Crear DataFrame inicial\n",
    "    df = pd.DataFrame({\n",
    "        'Producto': productos,\n",
    "        'Ventas': ventas.astype(float),  # Asegurar tipo float\n",
    "        'Categoría': pd.Categorical(categorias)\n",
    "    })\n",
    "\n",
    "    return df\n",
    "\n",
    "# Definir función para calcular Venta Neta\n",
    "def calcular_venta_neta(df):\n",
    "    # Calcular el IGV (18% de las ventas)\n",
    "    df['IGV'] = df['Ventas'] * 0.18\n",
    "\n",
    "    # Definir función para calcular descuento según el rango de ventas\n",
    "    def calcular_descuento(venta):\n",
    "        if 1000 <= venta < 1500:\n",
    "            return venta * 0.01  # 1%\n",
    "        elif 1500 <= venta < 3000:\n",
    "            return venta * 0.02  # 2%\n",
    "        elif 3000 <= venta < 7000:\n",
    "            return venta * 0.03  # 3%\n",
    "        elif 7000 <= venta < 9000:\n",
    "            return venta * 0.04  # 4%\n",
    "        else:\n",
    "            return venta * 0.05  # 5%\n",
    "    \n",
    "    # Aplicar la función de descuento\n",
    "    df['Descuento'] = df['Ventas'].apply(calcular_descuento)\n",
    "    \n",
    "    # Calcular la Venta Neta\n",
    "    df['Venta Neta'] = df['Ventas'] - df['IGV'] - df['Descuento']\n",
    "    \n",
    "    # Eliminar las columnas intermedias si no son necesarias\n",
    "    df.drop(columns=['IGV', 'Descuento'], inplace=True)\n",
    "\n",
    "    return df\n",
    "\n",
    "# Generar el DataFrame y calcular la Venta Neta\n",
    "df = generar_dataframe()\n",
    "df = calcular_venta_neta(df)\n",
    "\n",
    "# Guardar el DataFrame resultante en un archivo CSV\n",
    "df.to_csv('ventas_netas.csv', index=False, encoding='utf-8')\n",
    "print(\"El DataFrame ha sido guardado en 'ventas_netas.csv'.\")"
   ]
  },
  {
   "cell_type": "code",
   "execution_count": 3,
   "metadata": {},
   "outputs": [
    {
     "data": {
      "text/html": [
       "<div>\n",
       "<style scoped>\n",
       "    .dataframe tbody tr th:only-of-type {\n",
       "        vertical-align: middle;\n",
       "    }\n",
       "\n",
       "    .dataframe tbody tr th {\n",
       "        vertical-align: top;\n",
       "    }\n",
       "\n",
       "    .dataframe thead th {\n",
       "        text-align: right;\n",
       "    }\n",
       "</style>\n",
       "<table border=\"1\" class=\"dataframe\">\n",
       "  <thead>\n",
       "    <tr style=\"text-align: right;\">\n",
       "      <th></th>\n",
       "      <th>Producto</th>\n",
       "      <th>Ventas</th>\n",
       "      <th>Categoría</th>\n",
       "      <th>Venta Neta</th>\n",
       "    </tr>\n",
       "  </thead>\n",
       "  <tbody>\n",
       "    <tr>\n",
       "      <th>0</th>\n",
       "      <td>P0001</td>\n",
       "      <td>7525.0</td>\n",
       "      <td>GIMPAR</td>\n",
       "      <td>5869.50</td>\n",
       "    </tr>\n",
       "    <tr>\n",
       "      <th>1</th>\n",
       "      <td>P0002</td>\n",
       "      <td>6451.0</td>\n",
       "      <td>GPAR</td>\n",
       "      <td>5096.29</td>\n",
       "    </tr>\n",
       "    <tr>\n",
       "      <th>2</th>\n",
       "      <td>P0003</td>\n",
       "      <td>9684.0</td>\n",
       "      <td>GIMPAR</td>\n",
       "      <td>7456.68</td>\n",
       "    </tr>\n",
       "    <tr>\n",
       "      <th>3</th>\n",
       "      <td>P0004</td>\n",
       "      <td>3419.0</td>\n",
       "      <td>GPAR</td>\n",
       "      <td>2701.01</td>\n",
       "    </tr>\n",
       "    <tr>\n",
       "      <th>4</th>\n",
       "      <td>P0005</td>\n",
       "      <td>1192.0</td>\n",
       "      <td>GIMPAR</td>\n",
       "      <td>965.52</td>\n",
       "    </tr>\n",
       "  </tbody>\n",
       "</table>\n",
       "</div>"
      ],
      "text/plain": [
       "  Producto  Ventas Categoría  Venta Neta\n",
       "0    P0001  7525.0    GIMPAR     5869.50\n",
       "1    P0002  6451.0      GPAR     5096.29\n",
       "2    P0003  9684.0    GIMPAR     7456.68\n",
       "3    P0004  3419.0      GPAR     2701.01\n",
       "4    P0005  1192.0    GIMPAR      965.52"
      ]
     },
     "execution_count": 3,
     "metadata": {},
     "output_type": "execute_result"
    }
   ],
   "source": [
    "df.head()"
   ]
  },
  {
   "cell_type": "markdown",
   "metadata": {},
   "source": [
    "## Pasar hojas de calculo a csv para mayor comodidad."
   ]
  },
  {
   "cell_type": "code",
   "execution_count": null,
   "metadata": {},
   "outputs": [
    {
     "name": "stdout",
     "output_type": "stream",
     "text": [
      "Este notebook extrae todas las hojas de un archivo Excel y las guarda como archivos CSV.\n",
      "La carpeta 'hojas_csv' ya existe.\n",
      "El archivo 'BASES_MODELO(2).xlsx' ha sido cargado exitosamente.\n",
      "Procesando la hoja: DESCRIPICION\n",
      "Hoja 'DESCRIPICION' guardada en hojas_csv/DESCRIPICION.csv\n",
      "Procesando la hoja: BASE_VARIABLES\n",
      "Hoja 'BASE_VARIABLES' guardada en hojas_csv/BASE_VARIABLES.csv\n",
      "Procesando la hoja: BASE_ASESORA\n",
      "Hoja 'BASE_ASESORA' guardada en hojas_csv/BASE_ASESORA.csv\n",
      "Procesando la hoja: BASE_ESTIMADOS\n",
      "Hoja 'BASE_ESTIMADOS' guardada en hojas_csv/BASE_ESTIMADOS.csv\n",
      "Proceso completado. Todas las hojas han sido exportadas como CSV.\n"
     ]
    }
   ],
   "source": [
    "\n",
    "\n",
    "# Mostrar mensaje introductorio\n",
    "print(\"Este notebook extrae todas las hojas de un archivo Excel y las guarda como archivos CSV.\")\n",
    "\n",
    "# Definir el nombre del archivo Excel\n",
    "excel_file = \"BASES_MODELO(2).xlsx\"\n",
    "\n",
    "# Definir el nombre de la carpeta donde se guardarán los CSV\n",
    "output_folder = \"hojas_csv\"\n",
    "\n",
    "# Crear la carpeta si no existe\n",
    "if not os.path.exists(output_folder):\n",
    "    os.makedirs(output_folder)\n",
    "    print(f\"Carpeta '{output_folder}' creada exitosamente.\")\n",
    "else:\n",
    "    print(f\"La carpeta '{output_folder}' ya existe.\")\n",
    "\n",
    "# Cargar el archivo Excel\n",
    "xls = pd.ExcelFile(excel_file)\n",
    "print(f\"El archivo '{excel_file}' ha sido cargado exitosamente.\")\n",
    "\n",
    "# Iterar sobre cada hoja y guardarla en CSV\n",
    "for sheet_name in xls.sheet_names:\n",
    "    print(f\"Procesando la hoja: {sheet_name}\")\n",
    "    \n",
    "    # Leer la hoja\n",
    "    df = xls.parse(sheet_name)\n",
    "    \n",
    "    # Nombre del archivo CSV basado en la hoja\n",
    "    csv_file = os.path.join(output_folder, f\"{sheet_name}.csv\")\n",
    "    \n",
    "    # Guardar como CSV sin incluir el índice\n",
    "    df.to_csv(csv_file, index=False, encoding=\"utf-8\")\n",
    "    \n",
    "    print(f\"Hoja '{sheet_name}' guardada en {csv_file}\")\n",
    "\n",
    "print(\"Proceso completado. Todas las hojas han sido exportadas como CSV.\")"
   ]
  },
  {
   "cell_type": "code",
   "execution_count": null,
   "metadata": {},
   "outputs": [],
   "source": []
  }
 ],
 "metadata": {
  "kernelspec": {
   "display_name": "venv",
   "language": "python",
   "name": "python3"
  },
  "language_info": {
   "codemirror_mode": {
    "name": "ipython",
    "version": 3
   },
   "file_extension": ".py",
   "mimetype": "text/x-python",
   "name": "python",
   "nbconvert_exporter": "python",
   "pygments_lexer": "ipython3",
   "version": "3.11.2"
  }
 },
 "nbformat": 4,
 "nbformat_minor": 2
}
